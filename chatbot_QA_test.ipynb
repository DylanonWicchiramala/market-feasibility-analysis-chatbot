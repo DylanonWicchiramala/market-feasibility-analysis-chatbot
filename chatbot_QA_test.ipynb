{
 "cells": [
  {
   "cell_type": "code",
   "execution_count": 1,
   "metadata": {},
   "outputs": [],
   "source": [
    "from chatbot_multiagent import submitUserMessage\n",
    "import requests\n",
    "import random\n",
    "from math import inf\n",
    "from time import time, sleep\n",
    "\n",
    "def save_test_result(test_result, path:str = 'testsets/QA_test_result.txt'):\n",
    "    results, exet_rept = test_result\n",
    "    # Open the file in write mode\n",
    "    with open(path, 'w') as file:\n",
    "    # Iterate over each dictionary in the list\n",
    "        for result in results:\n",
    "        # Iterate over each key-value pair in the dictionary\n",
    "            for key, value in result.items():\n",
    "            # Write each key-value pair to the file\n",
    "                file.write(f\"{key}: \\n\\t{str(value).strip()}\\n\")\n",
    "        # Add a blank line between dictionaries\n",
    "            file.write(\"\\n\\n\")\n",
    "            file.write(\"-\"*200+\"\\n\")\n",
    "    \n",
    "        file.write(exet_rept)\n",
    "\n",
    "    print(f\"Results saved to {path}\")\n",
    "\n",
    "\n",
    "def QA_sample_test(quesion_test:list[str], result_save_path='testsets/QA_test_result.txt', num_samples:int=inf):\n",
    "    stt = time()\n",
    "    # Ensure there are at least 5 lines in the list\n",
    "    num_samples = min(num_samples, len(quesion_test))\n",
    "    sample_quesion = random.sample(quesion_test, num_samples)\n",
    "        \n",
    "    result = []\n",
    "    for quesion in sample_quesion:\n",
    "        try:\n",
    "            answer = submitUserMessage(quesion, keep_chat_history=False)\n",
    "            result.append({'quesion': quesion, 'answer': answer})   \n",
    "        except Exception as e:\n",
    "            result.append({'quesion': quesion, 'error': e}) \n",
    "            print(\"Error: \", e)  \n",
    "        \n",
    "    exet = time() - stt\n",
    "    exet_rept = f\"average execution time: {exet/num_samples}sec.\"\n",
    "    print(exet_rept)\n",
    "    \n",
    "    save_test_result((result, exet_rept), result_save_path)\n",
    "    return result, exet_rept\n",
    "\n",
    "\n",
    "def API_test(quesion_test:list[str], result_save_path='testsets/api_QA_test_result.txt', num_samples:int=inf, endpoint=\"https://market-feasibility-analysis-chatbot-2-jelvbvjqna-uc.a.run.app/test\"):\n",
    "    stt = time()\n",
    "    # Ensure there are at least 5 lines in the list\n",
    "    num_samples = min(num_samples, len(quesion_test))\n",
    "    sample_quesion = random.sample(quesion_test, num_samples)\n",
    "    \n",
    "    result = []\n",
    "    for quesion in sample_quesion:\n",
    "        headers = {\"Content-Type\": \"application/json\"}\n",
    "        data = {\"message\": quesion}\n",
    "\n",
    "        sleep(2)\n",
    "        response = requests.post(endpoint, json=data, headers=headers)\n",
    "\n",
    "        if response.status_code == 200:\n",
    "            answer = response.json().get(\"response\")\n",
    "            result.append({'quesion': quesion, 'answer': answer})   \n",
    "        else:\n",
    "            err_massage = response\n",
    "            print(\"Error:\", err_massage)\n",
    "            result.append({'quesion': quesion, 'error': err_massage}) \n",
    "            \n",
    "    exet = time() - stt\n",
    "    exet_rept = f\"average execution time: {exet/num_samples}sec.\"\n",
    "    print(exet_rept)\n",
    "    \n",
    "    save_test_result((result, exet_rept), result_save_path)\n",
    "    return result, exet_rept"
   ]
  },
  {
   "cell_type": "code",
   "execution_count": 2,
   "metadata": {},
   "outputs": [
    {
     "name": "stderr",
     "output_type": "stream",
     "text": [
      "/Library/Frameworks/Python.framework/Versions/3.11/lib/python3.11/site-packages/langchain_core/_api/deprecation.py:141: LangChainDeprecationWarning: The method `BaseTool.__call__` was deprecated in langchain-core 0.1.47 and will be removed in 1.0. Use invoke instead.\n",
      "  warn_deprecated(\n",
      "/Library/Frameworks/Python.framework/Versions/3.11/lib/python3.11/site-packages/langchain_core/_api/deprecation.py:141: LangChainDeprecationWarning: The method `BaseTool.__call__` was deprecated in langchain-core 0.1.47 and will be removed in 1.0. Use invoke instead.\n",
      "  warn_deprecated(\n"
     ]
    },
    {
     "name": "stdout",
     "output_type": "stream",
     "text": [
      "average execution time: 29.36287429332733sec.\n",
      "Results saved to testsets/QA_test_result.txt\n"
     ]
    }
   ],
   "source": [
    "with open('./testsets/user_question_testsets.txt', 'r') as file:\n",
    "    quesion_test = file.readlines()    \n",
    "\n",
    "# random.seed(12)\n",
    "endpoint=\"https://market-feasibility-analysis-chatbot-2-jelvbvjqna-uc.a.run.app/test\"\n",
    "\n",
    "# results, exet_rept = API_test(quesion_test, num_samples=10, result_save_path='testsets/api_QA_test_result.txt', endpoint=endpoint)\n",
    "results, exet_rept = QA_sample_test(quesion_test, num_samples=10)"
   ]
  }
 ],
 "metadata": {
  "kernelspec": {
   "display_name": "Python 3",
   "language": "python",
   "name": "python3"
  },
  "language_info": {
   "codemirror_mode": {
    "name": "ipython",
    "version": 3
   },
   "file_extension": ".py",
   "mimetype": "text/x-python",
   "name": "python",
   "nbconvert_exporter": "python",
   "pygments_lexer": "ipython3",
   "version": "3.11.9"
  }
 },
 "nbformat": 4,
 "nbformat_minor": 2
}
