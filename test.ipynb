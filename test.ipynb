{
 "cells": [
  {
   "cell_type": "code",
   "execution_count": 1,
   "metadata": {},
   "outputs": [
    {
     "name": "stderr",
     "output_type": "stream",
     "text": [
      "/Library/Frameworks/Python.framework/Versions/3.11/lib/python3.11/site-packages/langchain_core/_api/deprecation.py:141: LangChainDeprecationWarning: The class `OpenAI` was deprecated in LangChain 0.0.10 and will be removed in 0.3.0. An updated version of the class exists in the langchain-openai package and should be used instead. To use it run `pip install -U langchain-openai` and import as `from langchain_openai import OpenAI`.\n",
      "  warn_deprecated(\n"
     ]
    },
    {
     "data": {
      "text/plain": [
       "97"
      ]
     },
     "execution_count": 1,
     "metadata": {},
     "output_type": "execute_result"
    }
   ],
   "source": [
    "import utils\n",
    "\n",
    "utils.load_env()\n",
    "\n",
    "from langchain.llms import OpenAI\n",
    "\n",
    "# Create an instance of the OpenAI class\n",
    "openai = OpenAI(model_name=\"text-davinci-003\")\n",
    "\n",
    "# Get the maximum context size for the model\n",
    "max_context_size = openai.modelname_to_contextsize(openai.model_name)\n",
    "\n",
    "# Set the max_tokens attribute to a value within the model's maximum context length\n",
    "openai.max_tokens = max_context_size - 1  # or any value less than max_context_size\n",
    "\n",
    "# Alternatively, you can use the max_tokens_for_prompt method\n",
    "prompt = \"Tell me a joke.\"*800\n",
    "openai.max_tokens = openai.max_tokens_for_prompt(prompt)\n",
    "openai.max_tokens"
   ]
  },
  {
   "cell_type": "code",
   "execution_count": 4,
   "metadata": {},
   "outputs": [
    {
     "data": {
      "text/plain": [
       "'asdfdfaf'"
      ]
     },
     "execution_count": 4,
     "metadata": {},
     "output_type": "execute_result"
    }
   ],
   "source": [
    "from copy import copy\n",
    "tools_outputs=\"asdfdfaf\"\n",
    "\n",
    "def get_tools_output():\n",
    "    global tools_outputs\n",
    "    a = copy(tools_outputs)\n",
    "    tools_outputs = \"\"\n",
    "    return a\n",
    "    \n",
    "get_tools_output()"
   ]
  }
 ],
 "metadata": {
  "kernelspec": {
   "display_name": "Python 3",
   "language": "python",
   "name": "python3"
  },
  "language_info": {
   "codemirror_mode": {
    "name": "ipython",
    "version": 3
   },
   "file_extension": ".py",
   "mimetype": "text/x-python",
   "name": "python",
   "nbconvert_exporter": "python",
   "pygments_lexer": "ipython3",
   "version": "3.11.9"
  }
 },
 "nbformat": 4,
 "nbformat_minor": 2
}
