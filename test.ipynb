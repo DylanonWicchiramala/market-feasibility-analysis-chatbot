{
 "cells": [
  {
   "cell_type": "code",
   "execution_count": 5,
   "metadata": {},
   "outputs": [
    {
     "name": "stdout",
     "output_type": "stream",
     "text": [
      "Error: name 'adfl' is not defined\n",
      "Traceback: Traceback (most recent call last):\n",
      "  File \"/var/folders/xz/gzjrrx4d4jd2v3ptdyp9kpc80000gn/T/ipykernel_82646/2111086033.py\", line 4, in <module>\n",
      "    adfl;jalfdkjad\n",
      "    ^^^^\n",
      "NameError: name 'adfl' is not defined\n",
      "\n"
     ]
    }
   ],
   "source": [
    "import traceback\n",
    "\n",
    "try:\n",
    "    adfl;jalfdkjad\n",
    "except Exception as e:\n",
    "    error_traceback = traceback.format_exc()\n",
    "    print(f\"Error: {e}\\nTraceback: {error_traceback}\")"
   ]
  }
 ],
 "metadata": {
  "kernelspec": {
   "display_name": "Python 3",
   "language": "python",
   "name": "python3"
  },
  "language_info": {
   "codemirror_mode": {
    "name": "ipython",
    "version": 3
   },
   "file_extension": ".py",
   "mimetype": "text/x-python",
   "name": "python",
   "nbconvert_exporter": "python",
   "pygments_lexer": "ipython3",
   "version": "3.11.9"
  }
 },
 "nbformat": 4,
 "nbformat_minor": 2
}
