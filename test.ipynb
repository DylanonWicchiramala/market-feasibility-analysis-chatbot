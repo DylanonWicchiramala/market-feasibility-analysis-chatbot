{
 "cells": [
  {
   "cell_type": "code",
   "execution_count": 15,
   "metadata": {},
   "outputs": [
    {
     "data": {
      "text/plain": [
       "'\\nI will first gather the necessary information regarding the location and business type for the feasibility analysis.\\n\\n- **Location**: ลุมพินี เซ็นเตอร์ ลาดพร้าว\\n- **Keyword**: ร้านอาหารไทย\\n- **Business Type**: Food\\n\\nI will now pass this information to the Data Collector for further analysis.\\n\\nhello'"
      ]
     },
     "execution_count": 15,
     "metadata": {},
     "output_type": "execute_result"
    }
   ],
   "source": [
    "result = \"\"\"\n",
    "I will first gather the necessary information regarding the location and business type for the feasibility analysis.\n",
    "\n",
    "- **Location**: ลุมพินี เซ็นเตอร์ ลาดพร้าว\n",
    "- **Keyword**: ร้านอาหารไทย\n",
    "- **Business Type**: Food\n",
    "\n",
    "I will now pass this information to the Data Collector for further analysis.\n",
    "\n",
    "\"\"\"\n",
    "\n",
    "result += \"hello\"\n",
    "result"
   ]
  }
 ],
 "metadata": {
  "kernelspec": {
   "display_name": "Python 3",
   "language": "python",
   "name": "python3"
  },
  "language_info": {
   "codemirror_mode": {
    "name": "ipython",
    "version": 3
   },
   "file_extension": ".py",
   "mimetype": "text/x-python",
   "name": "python",
   "nbconvert_exporter": "python",
   "pygments_lexer": "ipython3",
   "version": "3.11.9"
  }
 },
 "nbformat": 4,
 "nbformat_minor": 2
}
