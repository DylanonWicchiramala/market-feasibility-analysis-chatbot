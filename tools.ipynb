{
 "cells": [
  {
   "cell_type": "code",
   "execution_count": 1,
   "metadata": {},
   "outputs": [],
   "source": [
    "# gplace_tools.py\n",
    "from gplace import find_place_from_text, find_location, nearby_search\n",
    "from langgraph.prebuilt import ToolNode\n",
    "from langchain_core.tools import tool\n",
    "\n",
    "find_place_from_text = tool(find_place_from_text)\n",
    "find_location = tool(find_location)\n",
    "nearby_search = tool(nearby_search)\n",
    "\n",
    "tools = [find_place_from_text, find_location, nearby_search]\n",
    "\n",
    "# Create ToolNodes for each tool\n",
    "tool_node = ToolNode(tools)"
   ]
  }
 ],
 "metadata": {
  "kernelspec": {
   "display_name": "Python 3",
   "language": "python",
   "name": "python3"
  },
  "language_info": {
   "codemirror_mode": {
    "name": "ipython",
    "version": 3
   },
   "file_extension": ".py",
   "mimetype": "text/x-python",
   "name": "python",
   "nbconvert_exporter": "python",
   "pygments_lexer": "ipython3",
   "version": "3.11.9"
  }
 },
 "nbformat": 4,
 "nbformat_minor": 2
}
